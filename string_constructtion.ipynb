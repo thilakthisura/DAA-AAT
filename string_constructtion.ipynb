{
  "nbformat": 4,
  "nbformat_minor": 0,
  "metadata": {
    "colab": {
      "provenance": []
    },
    "kernelspec": {
      "name": "python3",
      "display_name": "Python 3"
    },
    "language_info": {
      "name": "python"
    }
  },
  "cells": [
    {
      "cell_type": "code",
      "execution_count": null,
      "metadata": {
        "id": "IXp-DONlUleF"
      },
      "outputs": [],
      "source": [
        "\n",
        "\n",
        "def stringConstruction(s):\n",
        "    return len(set(s))\n",
        "if __name__ == '__main__':\n",
        "    n = int(input().strip())\n",
        "    for _ in range(n):\n",
        "        s = input().strip()\n",
        "        result = stringConstruction(s)\n",
        "        print(result)\n",
        ""
      ]
    }
  ]
}