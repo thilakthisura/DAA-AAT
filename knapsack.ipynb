{
  "nbformat": 4,
  "nbformat_minor": 0,
  "metadata": {
    "colab": {
      "provenance": []
    },
    "kernelspec": {
      "name": "python3",
      "display_name": "Python 3"
    },
    "language_info": {
      "name": "python"
    }
  },
  "cells": [
    {
      "cell_type": "code",
      "execution_count": null,
      "metadata": {
        "id": "y60FUoIuTWZT"
      },
      "outputs": [],
      "source": [
        "import os\n",
        "def unboundedKnapsack(k, arr):\n",
        "    dp = [0] * (k + 1)\n",
        "    for item in arr:\n",
        "        for j in range(item, k + 1):\n",
        "            dp[j] = max(dp[j], dp[j - item] + item)\n",
        "    return dp[k]\n",
        "if __name__ == '__main__':\n",
        "    fptr = open(os.environ['OUTPUT_PATH'], 'w')\n",
        "    t = int(input().strip())\n",
        "    for _ in range(t):\n",
        "        first_multiple_input = input().rstrip().split()\n",
        "        n = int(first_multiple_input[0])\n",
        "        k = int(first_multiple_input[1])\n",
        "        arr = list(map(int, input().rstrip().split()))\n",
        "\n",
        "        result = unboundedKnapsack(k, arr)\n",
        "        fptr.write(str(result) + '\\n')\n",
        "\n",
        "    fptr.close()\n",
        "\n",
        ""
      ]
    }
  ]
}