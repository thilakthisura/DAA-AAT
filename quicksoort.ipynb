{
  "nbformat": 4,
  "nbformat_minor": 0,
  "metadata": {
    "colab": {
      "provenance": []
    },
    "kernelspec": {
      "name": "python3",
      "display_name": "Python 3"
    },
    "language_info": {
      "name": "python"
    }
  },
  "cells": [
    {
      "cell_type": "code",
      "execution_count": null,
      "metadata": {
        "id": "nOVz4aM3UBTU"
      },
      "outputs": [],
      "source": [
        "\n",
        "\n",
        "def partition_array(size, array):\n",
        "    arr = [None] * size\n",
        "    for i in range(size):\n",
        "        arr[i] = int(array[i])\n",
        "    p = arr[0]\n",
        "    less = []\n",
        "    more = []\n",
        "    for i in range(size):\n",
        "        if arr[i] < p:\n",
        "            less.append(arr[i])\n",
        "        else:\n",
        "            more.append(arr[i])\n",
        "    return less + more\n",
        "if __name__ == '__main__':\n",
        "    size = int(input())\n",
        "    array = input().split(\" \")\n",
        "    result = partition_array(size, array)\n",
        "    print(' '.join(map(str, result)))\n",
        "\n",
        ""
      ]
    }
  ]
}